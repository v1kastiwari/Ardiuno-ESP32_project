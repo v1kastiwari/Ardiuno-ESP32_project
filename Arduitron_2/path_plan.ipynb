{
 "cells": [
  {
   "cell_type": "code",
   "execution_count": 23,
   "metadata": {},
   "outputs": [],
   "source": [
    "import json\n",
    "\n",
    "key_value_list = ['C','J']"
   ]
  },
  {
   "cell_type": "code",
   "execution_count": 24,
   "metadata": {},
   "outputs": [
    {
     "name": "stdout",
     "output_type": "stream",
     "text": [
      "Path: ['C', 'B', 'D', 'E', 'J']\n"
     ]
    }
   ],
   "source": [
    "import heapq\n",
    "\n",
    "def a_star(graph, start, goal):\n",
    "    frontier = []\n",
    "    heapq.heappush(frontier, (0, start))\n",
    "    came_from = {}\n",
    "    cost_so_far = {}\n",
    "    came_from[start] = None\n",
    "    cost_so_far[start] = 0\n",
    "    \n",
    "    while frontier:\n",
    "        _, current = heapq.heappop(frontier)\n",
    "        \n",
    "        if current == goal:\n",
    "            break\n",
    "        \n",
    "        for next_node in graph.neighbors(current):\n",
    "            new_cost = cost_so_far[current] + graph.cost(current, next_node)\n",
    "            if next_node not in cost_so_far or new_cost < cost_so_far[next_node]:\n",
    "                cost_so_far[next_node] = new_cost\n",
    "                heapq.heappush(frontier, (new_cost, next_node))\n",
    "                came_from[next_node] = current\n",
    "    \n",
    "    return came_from, cost_so_far\n",
    "\n",
    "class Graph:\n",
    "    def __init__(self):\n",
    "        self.edges = {\n",
    "            'A': ['B'],\n",
    "            'B': ['F','D','C','A'],\n",
    "            'C': ['B','G'],\n",
    "            'D': ['B', 'E'],\n",
    "            'E': ['J', 'D','F'],\n",
    "            'F': ['E','B','G','I'],\n",
    "            'G': ['H','C','F'],\n",
    "            'H': ['I','G'],\n",
    "            'I': ['H','J','F'],\n",
    "            'J': ['I','E']\n",
    "        }\n",
    "\n",
    "    def neighbors(self, id):\n",
    "        return self.edges[id]\n",
    "\n",
    "    def cost(self, from_node, to_node):\n",
    "        return 1  # assuming all edges have a cost of 1 for simplicity\n",
    "\n",
    "def find_path(graph, path):\n",
    "    all_paths = []\n",
    "    for i in range(len(path) - 1):\n",
    "        start = path[i]\n",
    "        goal = path[i + 1]\n",
    "        came_from, _ = a_star(graph, start, goal)\n",
    "        current = goal\n",
    "        sub_path = []\n",
    "        while current != start:\n",
    "            sub_path.append(current)\n",
    "            current = came_from[current]\n",
    "        sub_path.append(start)\n",
    "        sub_path.reverse()\n",
    "        all_paths.extend(sub_path)\n",
    "    filtered_path = [all_paths[0]]\n",
    "    for node in all_paths[1:]:\n",
    "        if node != filtered_path[-1]:  # Filter out consecutive repeated nodes\n",
    "            filtered_path.append(node)\n",
    "    return filtered_path\n",
    "\n",
    "graph = Graph()\n",
    "# paths = ['F','C', 'D', 'E', 'A', 'B']\n",
    "paths = key_value_list\n",
    "\n",
    "final_path = find_path(graph, paths)\n",
    "print(\"Path:\", final_path)\n"
   ]
  },
  {
   "cell_type": "code",
   "execution_count": 25,
   "metadata": {},
   "outputs": [
    {
     "name": "stdout",
     "output_type": "stream",
     "text": [
      "[(220, 306), (345, 314), (456, 303), (451, 215), (453, 102)]\n"
     ]
    }
   ],
   "source": [
    "points_dict = {'A': (343, 405), 'B': (345, 314), 'C': (220, 306), 'D': (456, 303), \n",
    "               'E': (451, 215), 'F': (341, 207), 'G': (206, 213), 'H': (208, 114), \n",
    "               'I': (334, 108), 'J': (453, 102)}\n",
    "# Path = ['F', 'G', 'L', 'K', 'N', 'C', 'N', 'D', 'M', 'R', 'S', 'E', 'S', 'R', 'M', 'L', 'G', 'A', 'H', 'K', 'B']\n",
    "Path = final_path\n",
    "coordinates = []  # List to store the coordinates\n",
    "\n",
    "for point in Path:\n",
    "    if point in points_dict:\n",
    "        coordinates.append(points_dict[point])\n",
    "\n",
    "print(coordinates)\n"
   ]
  }
 ],
 "metadata": {
  "kernelspec": {
   "display_name": "GG_2651",
   "language": "python",
   "name": "python3"
  },
  "language_info": {
   "codemirror_mode": {
    "name": "ipython",
    "version": 3
   },
   "file_extension": ".py",
   "mimetype": "text/x-python",
   "name": "python",
   "nbconvert_exporter": "python",
   "pygments_lexer": "ipython3",
   "version": "3.9.18"
  }
 },
 "nbformat": 4,
 "nbformat_minor": 2
}
